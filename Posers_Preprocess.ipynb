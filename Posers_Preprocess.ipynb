{
 "cells": [
  {
   "cell_type": "code",
   "execution_count": 1,
   "metadata": {
    "colab": {
     "base_uri": "https://localhost:8080/",
     "height": 34
    },
    "colab_type": "code",
    "executionInfo": {
     "elapsed": 555,
     "status": "ok",
     "timestamp": 1588012701520,
     "user": {
      "displayName": "Quoc Sam Tran",
      "photoUrl": "https://lh3.googleusercontent.com/a-/AOh14GgJn5VNxnpqd3R9fz4euzZ7_1DlICbVqA40Obwkmyc=s64",
      "userId": "15234788601438908122"
     },
     "user_tz": 240
    },
    "id": "CCWylZcV9VRa",
    "outputId": "b906c529-1d86-4af8-e649-9a71ec1accd9"
   },
   "outputs": [
    {
     "ename": "ModuleNotFoundError",
     "evalue": "No module named 'google.colab'",
     "output_type": "error",
     "traceback": [
      "\u001b[0;31m---------------------------------------------------------------------------\u001b[0m",
      "\u001b[0;31mModuleNotFoundError\u001b[0m                       Traceback (most recent call last)",
      "\u001b[0;32m<ipython-input-1-43587b81df40>\u001b[0m in \u001b[0;36m<module>\u001b[0;34m()\u001b[0m\n\u001b[0;32m----> 1\u001b[0;31m \u001b[0;32mfrom\u001b[0m \u001b[0mgoogle\u001b[0m\u001b[0;34m.\u001b[0m\u001b[0mcolab\u001b[0m \u001b[0;32mimport\u001b[0m \u001b[0mdrive\u001b[0m\u001b[0;34m,\u001b[0m \u001b[0mfiles\u001b[0m\u001b[0;34m\u001b[0m\u001b[0;34m\u001b[0m\u001b[0m\n\u001b[0m\u001b[1;32m      2\u001b[0m \u001b[0mdrive\u001b[0m\u001b[0;34m.\u001b[0m\u001b[0mmount\u001b[0m\u001b[0;34m(\u001b[0m\u001b[0;34m'/content/drive'\u001b[0m\u001b[0;34m)\u001b[0m\u001b[0;34m\u001b[0m\u001b[0;34m\u001b[0m\u001b[0m\n",
      "\u001b[0;31mModuleNotFoundError\u001b[0m: No module named 'google.colab'"
     ]
    }
   ],
   "source": [
    "from google.colab import drive, files\n",
    "drive.mount('/content/drive')"
   ]
  },
  {
   "cell_type": "code",
   "execution_count": 3,
   "metadata": {
    "colab": {
     "base_uri": "https://localhost:8080/",
     "height": 34
    },
    "colab_type": "code",
    "executionInfo": {
     "elapsed": 927,
     "status": "ok",
     "timestamp": 1588012701904,
     "user": {
      "displayName": "Quoc Sam Tran",
      "photoUrl": "https://lh3.googleusercontent.com/a-/AOh14GgJn5VNxnpqd3R9fz4euzZ7_1DlICbVqA40Obwkmyc=s64",
      "userId": "15234788601438908122"
     },
     "user_tz": 240
    },
    "id": "8u7GZ0TFANOD",
    "outputId": "1a256436-1db4-4e80-fefe-4dd20eded447"
   },
   "outputs": [
    {
     "name": "stdout",
     "output_type": "stream",
     "text": [
      "/content/drive/My Drive/Colab Notebooks/deep-learning-group\n"
     ]
    }
   ],
   "source": [
    "%cd \"/content/drive/My Drive/Colab Notebooks/deep-learning-group\""
   ]
  },
  {
   "cell_type": "code",
   "execution_count": 0,
   "metadata": {
    "colab": {},
    "colab_type": "code",
    "id": "PWMRzFx7MoUr"
   },
   "outputs": [],
   "source": [
    "import autoreload\n",
    "%load_ext autoreload"
   ]
  },
  {
   "cell_type": "code",
   "execution_count": 0,
   "metadata": {
    "colab": {},
    "colab_type": "code",
    "id": "vqEZAfpF6g4o"
   },
   "outputs": [],
   "source": [
    "%reload_ext autoreload"
   ]
  },
  {
   "cell_type": "code",
   "execution_count": 0,
   "metadata": {
    "colab": {},
    "colab_type": "code",
    "id": "_BM-_0leeCib"
   },
   "outputs": [],
   "source": [
    "import glob\n",
    "import cv2\n",
    "import numpy as np\n",
    "import os\n",
    "\n",
    "\n",
    "from tensorflow.keras.applications import VGG16\n",
    "from tensorflow.keras.layers import Input, Dense, Flatten, Dropout, AveragePooling2D\n",
    "from tensorflow.keras.models import Model\n",
    "from tensorflow import keras\n",
    "from tensorflow.keras.preprocessing.image import ImageDataGenerator\n",
    "from tensorflow.keras.utils import to_categorical\n",
    "from tensorflow.keras.wrappers.scikit_learn import KerasClassifier\n",
    "from sklearn.preprocessing import LabelBinarizer\n",
    "from sklearn.model_selection import train_test_split, StratifiedKFold\n",
    "from sklearn.metrics import classification_report\n",
    "from sklearn.model_selection import GridSearchCV\n",
    "from sklearn.pipeline import Pipeline, FeatureUnion\n",
    "from tensorflow.keras.callbacks import EarlyStopping"
   ]
  },
  {
   "cell_type": "code",
   "execution_count": 10,
   "metadata": {
    "colab": {},
    "colab_type": "code",
    "id": "nAgy2ukQBMDz"
   },
   "outputs": [
    {
     "ename": "ModuleNotFoundError",
     "evalue": "No module named 'helpers'",
     "output_type": "error",
     "traceback": [
      "\u001b[0;31m---------------------------------------------------------------------------\u001b[0m",
      "\u001b[0;31mModuleNotFoundError\u001b[0m                       Traceback (most recent call last)",
      "\u001b[0;32m<ipython-input-10-d249c8495052>\u001b[0m in \u001b[0;36m<module>\u001b[0;34m()\u001b[0m\n\u001b[0;32m----> 1\u001b[0;31m \u001b[0;32mimport\u001b[0m \u001b[0mhelpers\u001b[0m\u001b[0;34m\u001b[0m\u001b[0;34m\u001b[0m\u001b[0m\n\u001b[0m",
      "\u001b[0;31mModuleNotFoundError\u001b[0m: No module named 'helpers'"
     ]
    }
   ],
   "source": [
    "import helpers"
   ]
  },
  {
   "cell_type": "code",
   "execution_count": 8,
   "metadata": {
    "colab": {
     "base_uri": "https://localhost:8080/",
     "height": 34
    },
    "colab_type": "code",
    "executionInfo": {
     "elapsed": 8490,
     "status": "ok",
     "timestamp": 1588012709506,
     "user": {
      "displayName": "Quoc Sam Tran",
      "photoUrl": "https://lh3.googleusercontent.com/a-/AOh14GgJn5VNxnpqd3R9fz4euzZ7_1DlICbVqA40Obwkmyc=s64",
      "userId": "15234788601438908122"
     },
     "user_tz": 240
    },
    "id": "UTZLF-MPCwJa",
    "outputId": "ae6c5f05-6dee-4d66-b8ab-99283f920f40"
   },
   "outputs": [
    {
     "name": "stdout",
     "output_type": "stream",
     "text": [
      "/content/drive/My Drive/Colab Notebooks/deep-learning-group\n"
     ]
    }
   ],
   "source": [
    "!pwd"
   ]
  },
  {
   "cell_type": "code",
   "execution_count": 0,
   "metadata": {
    "colab": {},
    "colab_type": "code",
    "id": "Ca1HcJ-0eHkc"
   },
   "outputs": [],
   "source": [
    "DATA_DIR = '/content/drive/My Drive/Colab Notebooks/dataset'\n",
    "\n",
    "miniBatchSize = 16\n",
    "colorMode = 'rgb'\n",
    "classMode = \"categorical\"\n",
    "imgSize = 256\n",
    "\n",
    "\n",
    "datagen = ImageDataGenerator(rotation_range=20,\n",
    "                             width_shift_range=0.1,\n",
    "                             height_shift_range=0.1, \n",
    "                             rescale=1./255,\n",
    "                             zoom_range=0.3,\n",
    "                             validation_split=0.3,\n",
    "                             horizontal_flip=True)"
   ]
  },
  {
   "cell_type": "code",
   "execution_count": 10,
   "metadata": {
    "colab": {
     "base_uri": "https://localhost:8080/",
     "height": 51
    },
    "colab_type": "code",
    "executionInfo": {
     "elapsed": 39454,
     "status": "ok",
     "timestamp": 1588012740484,
     "user": {
      "displayName": "Quoc Sam Tran",
      "photoUrl": "https://lh3.googleusercontent.com/a-/AOh14GgJn5VNxnpqd3R9fz4euzZ7_1DlICbVqA40Obwkmyc=s64",
      "userId": "15234788601438908122"
     },
     "user_tz": 240
    },
    "id": "pHg_K1eGEApg",
    "outputId": "013f0468-4eae-4ba8-ef2e-65617bf5ad22"
   },
   "outputs": [
    {
     "name": "stdout",
     "output_type": "stream",
     "text": [
      "Found 4243 images belonging to 107 classes.\n",
      "Found 1751 images belonging to 107 classes.\n"
     ]
    }
   ],
   "source": [
    "train_generator = datagen.flow_from_directory(DATA_DIR,\n",
    "                                            target_size=(imgSize, imgSize),\n",
    "                                            color_mode=colorMode,\n",
    "                                            class_mode=classMode,\n",
    "                                            batch_size=miniBatchSize,\n",
    "                                            subset='training')\n",
    "\n",
    "validation_generator = datagen.flow_from_directory(DATA_DIR,\n",
    "                                            target_size=(imgSize, imgSize),\n",
    "                                            color_mode=colorMode,\n",
    "                                            class_mode=classMode,\n",
    "                                            batch_size=miniBatchSize,\n",
    "                                            subset='validation')"
   ]
  },
  {
   "cell_type": "code",
   "execution_count": 0,
   "metadata": {
    "colab": {},
    "colab_type": "code",
    "id": "vDTnmXR2E-qC"
   },
   "outputs": [],
   "source": [
    "augmented_images = [train_generator[0][0][0] for i in range(5)]"
   ]
  },
  {
   "cell_type": "code",
   "execution_count": 12,
   "metadata": {
    "colab": {
     "base_uri": "https://localhost:8080/",
     "height": 163
    },
    "colab_type": "code",
    "executionInfo": {
     "elapsed": 50804,
     "status": "error",
     "timestamp": 1588012751850,
     "user": {
      "displayName": "Quoc Sam Tran",
      "photoUrl": "https://lh3.googleusercontent.com/a-/AOh14GgJn5VNxnpqd3R9fz4euzZ7_1DlICbVqA40Obwkmyc=s64",
      "userId": "15234788601438908122"
     },
     "user_tz": 240
    },
    "id": "UM9_A9iJF2Cf",
    "outputId": "b09a35e9-cfb4-40e5-e682-6e58aba0d5c1"
   },
   "outputs": [
    {
     "ename": "NameError",
     "evalue": "ignored",
     "output_type": "error",
     "traceback": [
      "\u001b[0;31m---------------------------------------------------------------------------\u001b[0m",
      "\u001b[0;31mNameError\u001b[0m                                 Traceback (most recent call last)",
      "\u001b[0;32m<ipython-input-12-b97bba4a6d3d>\u001b[0m in \u001b[0;36m<module>\u001b[0;34m()\u001b[0m\n\u001b[0;32m----> 1\u001b[0;31m \u001b[0mplotImages\u001b[0m\u001b[0;34m(\u001b[0m\u001b[0maugmented_images\u001b[0m\u001b[0;34m,\u001b[0m \u001b[0mimg_size\u001b[0m\u001b[0;34m=\u001b[0m\u001b[0mimgSize\u001b[0m\u001b[0;34m)\u001b[0m\u001b[0;34m\u001b[0m\u001b[0;34m\u001b[0m\u001b[0m\n\u001b[0m",
      "\u001b[0;31mNameError\u001b[0m: name 'plotImages' is not defined"
     ]
    }
   ],
   "source": [
    "plotImages(augmented_images, img_size=imgSize)"
   ]
  },
  {
   "cell_type": "code",
   "execution_count": 3,
   "metadata": {},
   "outputs": [
    {
     "name": "stdout",
     "output_type": "stream",
     "text": [
      "/Users/jja/Documents/GitHub/deep-learning-group/Documentations\n"
     ]
    }
   ],
   "source": [
    "cd Documentations/"
   ]
  },
  {
   "cell_type": "code",
   "execution_count": 4,
   "metadata": {},
   "outputs": [
    {
     "name": "stdout",
     "output_type": "stream",
     "text": [
      "Journal.md   Proposal.md\r\n"
     ]
    }
   ],
   "source": [
    "ls"
   ]
  },
  {
   "cell_type": "code",
   "execution_count": 11,
   "metadata": {},
   "outputs": [
    {
     "name": "stdout",
     "output_type": "stream",
     "text": [
      "/Users/jja/Documents/GitHub/deep-learning-group\n"
     ]
    }
   ],
   "source": [
    "cd .."
   ]
  },
  {
   "cell_type": "code",
   "execution_count": null,
   "metadata": {},
   "outputs": [],
   "source": []
  }
 ],
 "metadata": {
  "colab": {
   "authorship_tag": "ABX9TyMlbtUAMVg/IusSufERULJ5",
   "collapsed_sections": [],
   "name": "Posers_Preprocess.ipynb",
   "provenance": []
  },
  "kernelspec": {
   "display_name": "Python 3",
   "language": "python",
   "name": "python3"
  },
  "language_info": {
   "codemirror_mode": {
    "name": "ipython",
    "version": 3
   },
   "file_extension": ".py",
   "mimetype": "text/x-python",
   "name": "python",
   "nbconvert_exporter": "python",
   "pygments_lexer": "ipython3",
   "version": "3.6.8"
  }
 },
 "nbformat": 4,
 "nbformat_minor": 1
}
